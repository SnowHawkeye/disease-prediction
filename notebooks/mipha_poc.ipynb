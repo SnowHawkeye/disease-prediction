{
 "cells": [
  {
   "metadata": {},
   "cell_type": "markdown",
   "source": [
    "## MIPHA proof of concept\n",
    "\n",
    "The purpose of this notebook is to test the MIPHA framework with pre-extracted data. It was used to debug the [MIPHA framework](https://github.com/snowhawkeye/mipha), and as such is not as well-documented as the rest of the experiments.\n",
    "\n"
   ],
   "id": "1174009381b944d2"
  },
  {
   "metadata": {},
   "cell_type": "code",
   "source": [
    "import sys\n",
    "from importlib import reload\n",
    "\n",
    "import pandas as pd\n",
    "from mipha.framework import MiphaPredictor\n",
    "import code.models.mipha_poc_implementation as impl  # if the import is not done this way, saving to pickle does not work\n",
    "from code.features.mipha_poc_datasource import Stage5CkdData\n",
    "from code.datasets.mimic_dataset import MimicDataset"
   ],
   "id": "bdd4520d42498b6b",
   "outputs": [],
   "execution_count": null
  },
  {
   "metadata": {},
   "cell_type": "code",
   "source": [
    "reload(sys.modules['code.models.mipha_poc_implementation'])\n",
    "reload(sys.modules['code.features.mipha_poc_datasource'])\n",
    "reload(sys.modules['code.datasets.mimic_dataset'])"
   ],
   "id": "b98e1ba5261a9ee2",
   "outputs": [],
   "execution_count": null
  },
  {
   "metadata": {},
   "cell_type": "markdown",
   "source": [
    "### Framework implementation\n",
    "\n",
    "We test a simple implementation of the framework applied to the prediction of stage 5 CKD (using a year of history for a prediction up to 15 months in advance).\n",
    "The data sources used in this example are:\n",
    "- The evolution of creatinine over time.\n",
    "- The age and gender of the patient.\n",
    "\n",
    "The framework is implemented as such:\n",
    "- Feature extraction for the first data source is performed using the `tsfel` package.\n",
    "- Aggregation is a simple concatenation of the extracted features.\n",
    "- The machine learning model is a simple CNN."
   ],
   "id": "abc2786182f8857b"
  },
  {
   "metadata": {},
   "cell_type": "code",
   "source": [
    "## Data setup\n",
    "mimic_dataset_config_path = \"config/mimic_dataset.mipha.json\"\n",
    "poc_data_config_path = \"config/mipha_poc_data.mipha.json\""
   ],
   "id": "8375031edab33445",
   "outputs": [],
   "execution_count": null
  },
  {
   "metadata": {},
   "cell_type": "code",
   "source": [
    "# Uncomment to generate config files\n",
    "# MimicDataset.create_config_file(mimic_dataset_config_path)\n",
    "# Stage5CkdData.create_config_file(poc_data_config_path)"
   ],
   "id": "d34fc3f8c35a9c29",
   "outputs": [],
   "execution_count": null
  },
  {
   "metadata": {},
   "cell_type": "code",
   "source": [
    "dataset = MimicDataset.from_config_file(mimic_dataset_config_path)\n",
    "data = Stage5CkdData.from_config_file(dataset=dataset, config_path=poc_data_config_path)"
   ],
   "id": "aff78db140322877",
   "outputs": [],
   "execution_count": null
  },
  {
   "metadata": {},
   "cell_type": "code",
   "source": "data_sources_train, labels_train, data_sources_test, labels_test = data.load_stage_5_ckd(random_state=25)",
   "id": "b78e7a1ca4996308",
   "outputs": [],
   "execution_count": null
  },
  {
   "metadata": {},
   "cell_type": "code",
   "source": [
    "mipha = MiphaPredictor(\n",
    "    feature_extractors=[\n",
    "        impl.BiologyFeatureExtractor(component_name=\"BiologyFeatureExtractor\", managed_data_types=[\"Creatinine\"]),\n",
    "        impl.DemographicsFeatureExtractor(component_name=\"BiologyFeatureExtractor\",\n",
    "                                          managed_data_types=[\"Demographics\"]),\n",
    "    ],\n",
    "    aggregator= impl.SimpleAggregator(),\n",
    "    model= impl.SimpleCnnModel(rows=1, columns=142, output_dim=1, n_filters=3),\n",
    "    # input dimensions are picked for the aggregator, output is binary\n",
    "    evaluator= impl.SimpleEvaluator(),\n",
    ")"
   ],
   "id": "ab3edd7c6b2461dc",
   "outputs": [],
   "execution_count": null
  },
  {
   "metadata": {},
   "cell_type": "code",
   "source": "mipha.fit(data_sources_train, labels_train, epochs=3)",
   "id": "b350b8df47eb685a",
   "outputs": [],
   "execution_count": null
  },
  {
   "metadata": {},
   "cell_type": "code",
   "source": "mipha.evaluate(data_sources=data_sources_test, test_labels=pd.DataFrame(labels_test), threshold=0.5)",
   "id": "32dce9ee17ae30cd",
   "outputs": [],
   "execution_count": null
  },
  {
   "metadata": {},
   "cell_type": "code",
   "source": [
    "from datetime import datetime\n",
    "\n",
    "now = datetime.now()\n",
    "formatted_time = now.strftime(\"%Y-%m-%d_%H-%M-%S\")\n",
    "file_path = f\"out/mipha_real_data\"\n",
    "mipha.save(file_path)\n",
    "data.save_pickle(mipha.last_computed_features, \"out/mipha_computed_features.pkl\")"
   ],
   "id": "5bdcdb29eb2821a3",
   "outputs": [],
   "execution_count": null
  },
  {
   "metadata": {},
   "cell_type": "code",
   "source": [
    "# Reusing a feature extraction\n",
    "mipha_loaded = mipha.load(\"out/mipha_real_data.zip\")\n",
    "precomputed_features = data.load_pickle(\"out/mipha_computed_features.pkl\")"
   ],
   "id": "79c5b3ef97654b76",
   "outputs": [],
   "execution_count": null
  },
  {
   "metadata": {},
   "cell_type": "code",
   "source": "mipha.evaluate(data_sources_test, labels_test, precomputed_features=precomputed_features)",
   "id": "42b7b8a8812b9817",
   "outputs": [],
   "execution_count": null
  },
  {
   "metadata": {},
   "cell_type": "code",
   "source": "",
   "id": "33a5ee5bd5944db3",
   "outputs": [],
   "execution_count": null
  }
 ],
 "metadata": {
  "kernelspec": {
   "display_name": "Python 3",
   "language": "python",
   "name": "python3"
  },
  "language_info": {
   "codemirror_mode": {
    "name": "ipython",
    "version": 2
   },
   "file_extension": ".py",
   "mimetype": "text/x-python",
   "name": "python",
   "nbconvert_exporter": "python",
   "pygments_lexer": "ipython2",
   "version": "2.7.6"
  }
 },
 "nbformat": 4,
 "nbformat_minor": 5
}
