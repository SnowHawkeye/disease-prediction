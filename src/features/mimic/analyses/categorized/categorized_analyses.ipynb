{
 "cells": [
  {
   "metadata": {},
   "cell_type": "markdown",
   "source": [
    "# Creating groups of laboratory analyses\n",
    "\n",
    "The table in `categorized_analyses.csv` was created with the help of a medical doctor.\n",
    "We will use these groups of analyses to create more laboratory-data-based data sources."
   ],
   "id": "8c44629d341d6676"
  },
  {
   "metadata": {
    "collapsed": true,
    "ExecuteTime": {
     "end_time": "2024-11-22T10:37:03.945057Z",
     "start_time": "2024-11-22T10:37:03.938430Z"
    }
   },
   "cell_type": "code",
   "source": [
    "import numpy as np\n",
    "import pandas as pd"
   ],
   "id": "initial_id",
   "outputs": [],
   "execution_count": 2
  },
  {
   "metadata": {
    "ExecuteTime": {
     "end_time": "2024-11-22T10:37:04.777272Z",
     "start_time": "2024-11-22T10:37:04.679511Z"
    }
   },
   "cell_type": "code",
   "source": "analyses = pd.read_csv(\"categorized_analyses.csv\").drop(\"category_fr\", axis=1).rename(columns={\"category_en\":\"category\"})",
   "id": "40dc0d0c084f1ad9",
   "outputs": [],
   "execution_count": 3
  },
  {
   "metadata": {
    "ExecuteTime": {
     "end_time": "2024-11-22T10:37:06.198275Z",
     "start_time": "2024-11-22T10:37:06.167563Z"
    }
   },
   "cell_type": "code",
   "source": "analyses",
   "id": "37b1026a1d288767",
   "outputs": [
    {
     "data": {
      "text/plain": [
       "               label  itemid  event_count    category\n",
       "0         Hematocrit   51221      3325700  hematology\n",
       "1         Creatinine   50912      3282278       renal\n",
       "2     Platelet Count   51265      3216656  hematology\n",
       "3      Urea Nitrogen   51006      3189474       renal\n",
       "4         Hemoglobin   51222      3188835  hematology\n",
       "..               ...     ...          ...         ...\n",
       "910  Voided Specimen   52313            1         NaN\n",
       "911      Young Cells   51459            1         NaN\n",
       "912            Young   52371            1         NaN\n",
       "913           Blasts   52294            1         NaN\n",
       "914  Voided Specimen   52392            1         NaN\n",
       "\n",
       "[915 rows x 4 columns]"
      ],
      "text/html": [
       "<div>\n",
       "<style scoped>\n",
       "    .dataframe tbody tr th:only-of-type {\n",
       "        vertical-align: middle;\n",
       "    }\n",
       "\n",
       "    .dataframe tbody tr th {\n",
       "        vertical-align: top;\n",
       "    }\n",
       "\n",
       "    .dataframe thead th {\n",
       "        text-align: right;\n",
       "    }\n",
       "</style>\n",
       "<table border=\"1\" class=\"dataframe\">\n",
       "  <thead>\n",
       "    <tr style=\"text-align: right;\">\n",
       "      <th></th>\n",
       "      <th>label</th>\n",
       "      <th>itemid</th>\n",
       "      <th>event_count</th>\n",
       "      <th>category</th>\n",
       "    </tr>\n",
       "  </thead>\n",
       "  <tbody>\n",
       "    <tr>\n",
       "      <th>0</th>\n",
       "      <td>Hematocrit</td>\n",
       "      <td>51221</td>\n",
       "      <td>3325700</td>\n",
       "      <td>hematology</td>\n",
       "    </tr>\n",
       "    <tr>\n",
       "      <th>1</th>\n",
       "      <td>Creatinine</td>\n",
       "      <td>50912</td>\n",
       "      <td>3282278</td>\n",
       "      <td>renal</td>\n",
       "    </tr>\n",
       "    <tr>\n",
       "      <th>2</th>\n",
       "      <td>Platelet Count</td>\n",
       "      <td>51265</td>\n",
       "      <td>3216656</td>\n",
       "      <td>hematology</td>\n",
       "    </tr>\n",
       "    <tr>\n",
       "      <th>3</th>\n",
       "      <td>Urea Nitrogen</td>\n",
       "      <td>51006</td>\n",
       "      <td>3189474</td>\n",
       "      <td>renal</td>\n",
       "    </tr>\n",
       "    <tr>\n",
       "      <th>4</th>\n",
       "      <td>Hemoglobin</td>\n",
       "      <td>51222</td>\n",
       "      <td>3188835</td>\n",
       "      <td>hematology</td>\n",
       "    </tr>\n",
       "    <tr>\n",
       "      <th>...</th>\n",
       "      <td>...</td>\n",
       "      <td>...</td>\n",
       "      <td>...</td>\n",
       "      <td>...</td>\n",
       "    </tr>\n",
       "    <tr>\n",
       "      <th>910</th>\n",
       "      <td>Voided Specimen</td>\n",
       "      <td>52313</td>\n",
       "      <td>1</td>\n",
       "      <td>NaN</td>\n",
       "    </tr>\n",
       "    <tr>\n",
       "      <th>911</th>\n",
       "      <td>Young Cells</td>\n",
       "      <td>51459</td>\n",
       "      <td>1</td>\n",
       "      <td>NaN</td>\n",
       "    </tr>\n",
       "    <tr>\n",
       "      <th>912</th>\n",
       "      <td>Young</td>\n",
       "      <td>52371</td>\n",
       "      <td>1</td>\n",
       "      <td>NaN</td>\n",
       "    </tr>\n",
       "    <tr>\n",
       "      <th>913</th>\n",
       "      <td>Blasts</td>\n",
       "      <td>52294</td>\n",
       "      <td>1</td>\n",
       "      <td>NaN</td>\n",
       "    </tr>\n",
       "    <tr>\n",
       "      <th>914</th>\n",
       "      <td>Voided Specimen</td>\n",
       "      <td>52392</td>\n",
       "      <td>1</td>\n",
       "      <td>NaN</td>\n",
       "    </tr>\n",
       "  </tbody>\n",
       "</table>\n",
       "<p>915 rows × 4 columns</p>\n",
       "</div>"
      ]
     },
     "execution_count": 4,
     "metadata": {},
     "output_type": "execute_result"
    }
   ],
   "execution_count": 4
  },
  {
   "metadata": {
    "ExecuteTime": {
     "end_time": "2024-11-22T10:37:06.859103Z",
     "start_time": "2024-11-22T10:37:06.801851Z"
    }
   },
   "cell_type": "code",
   "source": [
    "categories = analyses.category.unique()\n",
    "categories, len(categories)"
   ],
   "id": "563d6ae2320ee471",
   "outputs": [
    {
     "data": {
      "text/plain": [
       "(array(['hematology', 'renal', 'metabolic', nan, 'hepatology', 'nutrition',\n",
       "        'infectiology', 'cardiology', 'endocrine', 'muscular',\n",
       "        'toxicology', 'reproduction', 'immunology_inflammation',\n",
       "        'tumor_marker', 'body_fluids', 'pulmonary', 'hepatic_renal'],\n",
       "       dtype=object),\n",
       " 17)"
      ]
     },
     "execution_count": 5,
     "metadata": {},
     "output_type": "execute_result"
    }
   ],
   "execution_count": 5
  },
  {
   "metadata": {
    "ExecuteTime": {
     "end_time": "2024-11-22T11:14:52.496042Z",
     "start_time": "2024-11-22T11:14:52.472966Z"
    }
   },
   "cell_type": "code",
   "source": [
    "MAX_ANALYSES_BY_GROUP = 20  # arbitrary, prevents groups with too many features\n",
    "MIN_EVENT_COUNT = 7000  # prevents analyses with too few examples to be selected, set so that each group retains at least one\n",
    "\n",
    "categorized_analyses = {\n",
    "    category: group[group['event_count'] > MIN_EVENT_COUNT].iloc[:MAX_ANALYSES_BY_GROUP]\n",
    "    for category, group in analyses.groupby('category')\n",
    "}\n",
    "categories = list(categorized_analyses.keys())"
   ],
   "id": "78fbd3a9124b3625",
   "outputs": [],
   "execution_count": 51
  },
  {
   "metadata": {
    "ExecuteTime": {
     "end_time": "2024-11-22T11:14:53.530901Z",
     "start_time": "2024-11-22T11:14:53.514896Z"
    }
   },
   "cell_type": "code",
   "source": "categorized_analyses[\"hepatic_renal\"].sort_values(\"event_count\", ascending=False)",
   "id": "81f5b5d2c65935e9",
   "outputs": [
    {
     "data": {
      "text/plain": [
       "                      label  itemid  event_count       category\n",
       "297  Total Protein, Pleural   51059         7387  hepatic_renal"
      ],
      "text/html": [
       "<div>\n",
       "<style scoped>\n",
       "    .dataframe tbody tr th:only-of-type {\n",
       "        vertical-align: middle;\n",
       "    }\n",
       "\n",
       "    .dataframe tbody tr th {\n",
       "        vertical-align: top;\n",
       "    }\n",
       "\n",
       "    .dataframe thead th {\n",
       "        text-align: right;\n",
       "    }\n",
       "</style>\n",
       "<table border=\"1\" class=\"dataframe\">\n",
       "  <thead>\n",
       "    <tr style=\"text-align: right;\">\n",
       "      <th></th>\n",
       "      <th>label</th>\n",
       "      <th>itemid</th>\n",
       "      <th>event_count</th>\n",
       "      <th>category</th>\n",
       "    </tr>\n",
       "  </thead>\n",
       "  <tbody>\n",
       "    <tr>\n",
       "      <th>297</th>\n",
       "      <td>Total Protein, Pleural</td>\n",
       "      <td>51059</td>\n",
       "      <td>7387</td>\n",
       "      <td>hepatic_renal</td>\n",
       "    </tr>\n",
       "  </tbody>\n",
       "</table>\n",
       "</div>"
      ]
     },
     "execution_count": 52,
     "metadata": {},
     "output_type": "execute_result"
    }
   ],
   "execution_count": 52
  },
  {
   "metadata": {
    "ExecuteTime": {
     "end_time": "2024-11-22T11:16:18.510428Z",
     "start_time": "2024-11-22T11:16:18.489778Z"
    }
   },
   "cell_type": "code",
   "source": [
    "# Creating a table to display stats on each category\n",
    "grouped_analyses = (\n",
    "    analyses.drop(\"itemid\", axis=1)\n",
    "    .groupby(\"category\")\n",
    "    .agg({\"event_count\": \"sum\"})\n",
    ").sort_values(\"event_count\", ascending=False)\n",
    "\n",
    "# Add the number of elements in each group\n",
    "grouped_analyses[\"max_count\"] = analyses.groupby(\"category\").event_count.max()\n",
    "grouped_analyses[\"min_count\"] = analyses.groupby(\"category\").event_count.min()\n",
    "grouped_analyses[\"num_elements\"] = analyses.groupby(\"category\").size()"
   ],
   "id": "b8a3b28108f2ab20",
   "outputs": [],
   "execution_count": 58
  },
  {
   "metadata": {
    "ExecuteTime": {
     "end_time": "2024-11-22T11:16:19.554399Z",
     "start_time": "2024-11-22T11:16:19.535337Z"
    }
   },
   "cell_type": "code",
   "source": "grouped_analyses",
   "id": "7c8c5688a43479d2",
   "outputs": [
    {
     "data": {
      "text/plain": [
       "                         event_count  max_count  min_count  num_elements\n",
       "category                                                                \n",
       "hematology                  49761099    3325700          1           123\n",
       "metabolic                   23960259    2972827         25            46\n",
       "renal                       18531524    3282278         14            43\n",
       "hepatology                   6575882    1348729          4            13\n",
       "infectiology                 5244004     682923        115            78\n",
       "nutrition                    1876534     749944      53116             6\n",
       "toxicology                    952582      88720         98            25\n",
       "cardiology                    682891     359000        163             6\n",
       "endocrine                     549928     316395       3180             9\n",
       "muscular                      280892     280892     280892             1\n",
       "immunology_inflammation       147374      60481        112            17\n",
       "tumor_marker                  138010      58166          4             6\n",
       "reproduction                  107415      81160        245             4\n",
       "body_fluids                    67699      11604          1            52\n",
       "pulmonary                      45147       7622          2            16\n",
       "hepatic_renal                  11468       7387          1             6"
      ],
      "text/html": [
       "<div>\n",
       "<style scoped>\n",
       "    .dataframe tbody tr th:only-of-type {\n",
       "        vertical-align: middle;\n",
       "    }\n",
       "\n",
       "    .dataframe tbody tr th {\n",
       "        vertical-align: top;\n",
       "    }\n",
       "\n",
       "    .dataframe thead th {\n",
       "        text-align: right;\n",
       "    }\n",
       "</style>\n",
       "<table border=\"1\" class=\"dataframe\">\n",
       "  <thead>\n",
       "    <tr style=\"text-align: right;\">\n",
       "      <th></th>\n",
       "      <th>event_count</th>\n",
       "      <th>max_count</th>\n",
       "      <th>min_count</th>\n",
       "      <th>num_elements</th>\n",
       "    </tr>\n",
       "    <tr>\n",
       "      <th>category</th>\n",
       "      <th></th>\n",
       "      <th></th>\n",
       "      <th></th>\n",
       "      <th></th>\n",
       "    </tr>\n",
       "  </thead>\n",
       "  <tbody>\n",
       "    <tr>\n",
       "      <th>hematology</th>\n",
       "      <td>49761099</td>\n",
       "      <td>3325700</td>\n",
       "      <td>1</td>\n",
       "      <td>123</td>\n",
       "    </tr>\n",
       "    <tr>\n",
       "      <th>metabolic</th>\n",
       "      <td>23960259</td>\n",
       "      <td>2972827</td>\n",
       "      <td>25</td>\n",
       "      <td>46</td>\n",
       "    </tr>\n",
       "    <tr>\n",
       "      <th>renal</th>\n",
       "      <td>18531524</td>\n",
       "      <td>3282278</td>\n",
       "      <td>14</td>\n",
       "      <td>43</td>\n",
       "    </tr>\n",
       "    <tr>\n",
       "      <th>hepatology</th>\n",
       "      <td>6575882</td>\n",
       "      <td>1348729</td>\n",
       "      <td>4</td>\n",
       "      <td>13</td>\n",
       "    </tr>\n",
       "    <tr>\n",
       "      <th>infectiology</th>\n",
       "      <td>5244004</td>\n",
       "      <td>682923</td>\n",
       "      <td>115</td>\n",
       "      <td>78</td>\n",
       "    </tr>\n",
       "    <tr>\n",
       "      <th>nutrition</th>\n",
       "      <td>1876534</td>\n",
       "      <td>749944</td>\n",
       "      <td>53116</td>\n",
       "      <td>6</td>\n",
       "    </tr>\n",
       "    <tr>\n",
       "      <th>toxicology</th>\n",
       "      <td>952582</td>\n",
       "      <td>88720</td>\n",
       "      <td>98</td>\n",
       "      <td>25</td>\n",
       "    </tr>\n",
       "    <tr>\n",
       "      <th>cardiology</th>\n",
       "      <td>682891</td>\n",
       "      <td>359000</td>\n",
       "      <td>163</td>\n",
       "      <td>6</td>\n",
       "    </tr>\n",
       "    <tr>\n",
       "      <th>endocrine</th>\n",
       "      <td>549928</td>\n",
       "      <td>316395</td>\n",
       "      <td>3180</td>\n",
       "      <td>9</td>\n",
       "    </tr>\n",
       "    <tr>\n",
       "      <th>muscular</th>\n",
       "      <td>280892</td>\n",
       "      <td>280892</td>\n",
       "      <td>280892</td>\n",
       "      <td>1</td>\n",
       "    </tr>\n",
       "    <tr>\n",
       "      <th>immunology_inflammation</th>\n",
       "      <td>147374</td>\n",
       "      <td>60481</td>\n",
       "      <td>112</td>\n",
       "      <td>17</td>\n",
       "    </tr>\n",
       "    <tr>\n",
       "      <th>tumor_marker</th>\n",
       "      <td>138010</td>\n",
       "      <td>58166</td>\n",
       "      <td>4</td>\n",
       "      <td>6</td>\n",
       "    </tr>\n",
       "    <tr>\n",
       "      <th>reproduction</th>\n",
       "      <td>107415</td>\n",
       "      <td>81160</td>\n",
       "      <td>245</td>\n",
       "      <td>4</td>\n",
       "    </tr>\n",
       "    <tr>\n",
       "      <th>body_fluids</th>\n",
       "      <td>67699</td>\n",
       "      <td>11604</td>\n",
       "      <td>1</td>\n",
       "      <td>52</td>\n",
       "    </tr>\n",
       "    <tr>\n",
       "      <th>pulmonary</th>\n",
       "      <td>45147</td>\n",
       "      <td>7622</td>\n",
       "      <td>2</td>\n",
       "      <td>16</td>\n",
       "    </tr>\n",
       "    <tr>\n",
       "      <th>hepatic_renal</th>\n",
       "      <td>11468</td>\n",
       "      <td>7387</td>\n",
       "      <td>1</td>\n",
       "      <td>6</td>\n",
       "    </tr>\n",
       "  </tbody>\n",
       "</table>\n",
       "</div>"
      ]
     },
     "execution_count": 59,
     "metadata": {},
     "output_type": "execute_result"
    }
   ],
   "execution_count": 59
  },
  {
   "metadata": {
    "ExecuteTime": {
     "end_time": "2024-11-22T11:16:34.950885Z",
     "start_time": "2024-11-22T11:16:34.941929Z"
    }
   },
   "cell_type": "code",
   "source": "categorized_analyses_codes = {category: list(table[\"itemid\"]) for category, table in categorized_analyses.items()}",
   "id": "44e6ade119f8c0fb",
   "outputs": [],
   "execution_count": 60
  },
  {
   "metadata": {
    "ExecuteTime": {
     "end_time": "2024-11-22T11:16:35.573300Z",
     "start_time": "2024-11-22T11:16:35.566814Z"
    }
   },
   "cell_type": "code",
   "source": "import json",
   "id": "8b9ee72c7bc3306d",
   "outputs": [],
   "execution_count": 61
  },
  {
   "metadata": {
    "ExecuteTime": {
     "end_time": "2024-11-22T11:16:36.520086Z",
     "start_time": "2024-11-22T11:16:36.505198Z"
    }
   },
   "cell_type": "code",
   "source": [
    "output_file = \"categorized_analyses.json\"\n",
    "\n",
    "with open(output_file, \"w\") as f:\n",
    "    for key, value in categorized_analyses_codes.items():\n",
    "        json_line = json.dumps({key: value}, separators=(\",\", \": \"), indent=None)\n",
    "        f.write(\"    \" + json_line[1:-1] + \",\\n\")  # Remove outer braces and append a new line\n",
    "\n",
    "# Add final touch to create the JSON-like structure\n",
    "with open(output_file, \"r+\") as f:\n",
    "    lines = f.readlines()\n",
    "    f.seek(0)\n",
    "    f.write(\"{\\n\")  # Open brace\n",
    "    f.writelines(lines[:-1])  # Write all lines except the last\n",
    "    f.write(lines[-1].rstrip(\",\\n\") + \"\\n}\\n\")  # Remove last comma, close brace"
   ],
   "id": "111c847b8fb1bc80",
   "outputs": [],
   "execution_count": 62
  },
  {
   "metadata": {},
   "cell_type": "code",
   "source": "",
   "id": "e562fcfc6305d249",
   "outputs": [],
   "execution_count": null
  }
 ],
 "metadata": {
  "kernelspec": {
   "display_name": "Python 3",
   "language": "python",
   "name": "python3"
  },
  "language_info": {
   "codemirror_mode": {
    "name": "ipython",
    "version": 2
   },
   "file_extension": ".py",
   "mimetype": "text/x-python",
   "name": "python",
   "nbconvert_exporter": "python",
   "pygments_lexer": "ipython2",
   "version": "2.7.6"
  }
 },
 "nbformat": 4,
 "nbformat_minor": 5
}
