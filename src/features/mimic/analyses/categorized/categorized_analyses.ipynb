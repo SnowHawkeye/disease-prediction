{
 "cells": [
  {
   "metadata": {},
   "cell_type": "markdown",
   "source": [
    "# Creating groups of laboratory analyses\n",
    "\n",
    "The table in `categorized_analyses.csv` was created with the help of a medical doctor.\n",
    "We will use these groups of analyses to create more laboratory-data-based data sources."
   ],
   "id": "8c44629d341d6676"
  },
  {
   "metadata": {
    "collapsed": true
   },
   "cell_type": "code",
   "source": [
    "import numpy as np\n",
    "import pandas as pd"
   ],
   "id": "initial_id",
   "outputs": [],
   "execution_count": null
  },
  {
   "metadata": {},
   "cell_type": "code",
   "source": "analyses = pd.read_csv(\"categorized_analyses.csv\").drop(\"category_fr\", axis=1).rename(columns={\"category_en\":\"category\"})",
   "id": "40dc0d0c084f1ad9",
   "outputs": [],
   "execution_count": null
  },
  {
   "metadata": {},
   "cell_type": "code",
   "source": "analyses",
   "id": "37b1026a1d288767",
   "outputs": [],
   "execution_count": null
  },
  {
   "metadata": {},
   "cell_type": "code",
   "source": [
    "categories = analyses.category.unique()\n",
    "categories, len(categories)"
   ],
   "id": "563d6ae2320ee471",
   "outputs": [],
   "execution_count": null
  },
  {
   "metadata": {},
   "cell_type": "code",
   "source": [
    "categorized_analyses = {category: group for category, group in analyses.groupby('category')}\n",
    "categories = list(categorized_analyses.keys())"
   ],
   "id": "78fbd3a9124b3625",
   "outputs": [],
   "execution_count": null
  },
  {
   "metadata": {},
   "cell_type": "code",
   "source": "categorized_analyses[\"renal\"]",
   "id": "81f5b5d2c65935e9",
   "outputs": [],
   "execution_count": null
  },
  {
   "metadata": {},
   "cell_type": "code",
   "source": [
    "grouped_analyses = (\n",
    "    analyses.drop(\"itemid\", axis=1)\n",
    "    .groupby(\"category\")\n",
    "    .agg({\"event_count\": \"sum\"})\n",
    ")\n",
    "\n",
    "# Add the number of elements in each group\n",
    "grouped_analyses[\"num_elements\"] = analyses.groupby(\"category\").size()"
   ],
   "id": "b8a3b28108f2ab20",
   "outputs": [],
   "execution_count": null
  },
  {
   "metadata": {},
   "cell_type": "code",
   "source": "grouped_analyses",
   "id": "7c8c5688a43479d2",
   "outputs": [],
   "execution_count": null
  },
  {
   "metadata": {},
   "cell_type": "code",
   "source": "categorized_analyses_codes = {category: list(table[\"itemid\"]) for category, table in categorized_analyses.items()}",
   "id": "44e6ade119f8c0fb",
   "outputs": [],
   "execution_count": null
  },
  {
   "metadata": {},
   "cell_type": "code",
   "source": "import json",
   "id": "8b9ee72c7bc3306d",
   "outputs": [],
   "execution_count": null
  },
  {
   "metadata": {},
   "cell_type": "code",
   "source": [
    "output_file = \"categorized_analyses.json\"\n",
    "\n",
    "with open(output_file, \"w\") as f:\n",
    "    for key, value in categorized_analyses_codes.items():\n",
    "        json_line = json.dumps({key: value}, separators=(\",\", \": \"), indent=None)\n",
    "        f.write(\"    \" + json_line[1:-1] + \",\\n\")  # Remove outer braces and append a new line\n",
    "\n",
    "# Add final touch to create the JSON-like structure\n",
    "with open(output_file, \"r+\") as f:\n",
    "    lines = f.readlines()\n",
    "    f.seek(0)\n",
    "    f.write(\"{\\n\")  # Open brace\n",
    "    f.writelines(lines[:-1])  # Write all lines except the last\n",
    "    f.write(lines[-1].rstrip(\",\\n\") + \"\\n}\\n\")  # Remove last comma, close brace"
   ],
   "id": "111c847b8fb1bc80",
   "outputs": [],
   "execution_count": null
  },
  {
   "metadata": {},
   "cell_type": "code",
   "source": "",
   "id": "e562fcfc6305d249",
   "outputs": [],
   "execution_count": null
  }
 ],
 "metadata": {
  "kernelspec": {
   "display_name": "Python 3",
   "language": "python",
   "name": "python3"
  },
  "language_info": {
   "codemirror_mode": {
    "name": "ipython",
    "version": 2
   },
   "file_extension": ".py",
   "mimetype": "text/x-python",
   "name": "python",
   "nbconvert_exporter": "python",
   "pygments_lexer": "ipython2",
   "version": "2.7.6"
  }
 },
 "nbformat": 4,
 "nbformat_minor": 5
}
