{
 "cells": [
  {
   "metadata": {},
   "cell_type": "markdown",
   "source": [
    "## Most common analyses codes extraction\n",
    "### SQL Query\n",
    "The following query lists all analyses in the dataset, as well as their labels, counts, and corresponding percentages.\n",
    "\n",
    "\n",
    "```sql\n",
    "SELECT\n",
    "    labitems.label,\n",
    "    labevents.itemid,\n",
    "    COUNT(*) AS event_count,\n",
    "    (COUNT(*) / (SELECT COUNT(*) FROM `physionet-data.mimiciv_hosp.labevents`)) * 100 AS percentage\n",
    "FROM\n",
    "    `physionet-data.mimiciv_hosp.labevents` as labevents\n",
    "JOIN\n",
    "    `physionet-data.mimiciv_hosp.d_labitems` as labitems ON labevents.itemid = labitems.itemid\n",
    "GROUP BY\n",
    "    labevents.itemid,\n",
    "    labitems.label\n",
    "ORDER BY\n",
    "    event_count DESC\n",
    "```\n",
    "\n",
    "The results are stored in `most_common_analyses.json`"
   ],
   "id": "1d3309e0b188deee"
  },
  {
   "metadata": {
    "ExecuteTime": {
     "end_time": "2024-09-10T12:51:09.897122Z",
     "start_time": "2024-09-10T12:51:09.289624Z"
    }
   },
   "cell_type": "code",
   "source": [
    "import pandas as pd\n",
    "import json"
   ],
   "id": "868da68d3b355ff4",
   "outputs": [],
   "execution_count": 1
  },
  {
   "cell_type": "code",
   "id": "initial_id",
   "metadata": {
    "collapsed": true,
    "ExecuteTime": {
     "end_time": "2024-09-10T12:51:10.695222Z",
     "start_time": "2024-09-10T12:51:10.686720Z"
    }
   },
   "source": [
    "with open('most_common_analyses.json', 'r') as f:\n",
    "    data = pd.DataFrame(json.load(f))"
   ],
   "outputs": [],
   "execution_count": 2
  },
  {
   "metadata": {
    "ExecuteTime": {
     "end_time": "2024-09-10T12:51:12.577146Z",
     "start_time": "2024-09-10T12:51:12.535369Z"
    }
   },
   "cell_type": "code",
   "source": "data",
   "id": "afcd4adf8257f64e",
   "outputs": [
    {
     "data": {
      "text/plain": [
       "                      label itemid event_count              percentage\n",
       "0                Hematocrit  51221     3325700      2.8143027236030873\n",
       "1                Creatinine  50912     3282278      2.7775577818271326\n",
       "2            Platelet Count  51265     3216656      2.7220265633383085\n",
       "3             Urea Nitrogen  51006     3189474      2.6990243753378937\n",
       "4                Hemoglobin  51222     3188835      2.6984836352108883\n",
       "..                      ...    ...         ...                     ...\n",
       "910  Uric Acid, Joint Fluid  51826           1  8.4622868075986638e-07\n",
       "911                Hyperseg  52055           1  8.4622868075986638e-07\n",
       "912          Albumin, Stool  51927           1  8.4622868075986638e-07\n",
       "913         Voided Specimen  52066           1  8.4622868075986638e-07\n",
       "914           Chloride, CSF  51784           1  8.4622868075986638e-07\n",
       "\n",
       "[915 rows x 4 columns]"
      ],
      "text/html": [
       "<div>\n",
       "<style scoped>\n",
       "    .dataframe tbody tr th:only-of-type {\n",
       "        vertical-align: middle;\n",
       "    }\n",
       "\n",
       "    .dataframe tbody tr th {\n",
       "        vertical-align: top;\n",
       "    }\n",
       "\n",
       "    .dataframe thead th {\n",
       "        text-align: right;\n",
       "    }\n",
       "</style>\n",
       "<table border=\"1\" class=\"dataframe\">\n",
       "  <thead>\n",
       "    <tr style=\"text-align: right;\">\n",
       "      <th></th>\n",
       "      <th>label</th>\n",
       "      <th>itemid</th>\n",
       "      <th>event_count</th>\n",
       "      <th>percentage</th>\n",
       "    </tr>\n",
       "  </thead>\n",
       "  <tbody>\n",
       "    <tr>\n",
       "      <th>0</th>\n",
       "      <td>Hematocrit</td>\n",
       "      <td>51221</td>\n",
       "      <td>3325700</td>\n",
       "      <td>2.8143027236030873</td>\n",
       "    </tr>\n",
       "    <tr>\n",
       "      <th>1</th>\n",
       "      <td>Creatinine</td>\n",
       "      <td>50912</td>\n",
       "      <td>3282278</td>\n",
       "      <td>2.7775577818271326</td>\n",
       "    </tr>\n",
       "    <tr>\n",
       "      <th>2</th>\n",
       "      <td>Platelet Count</td>\n",
       "      <td>51265</td>\n",
       "      <td>3216656</td>\n",
       "      <td>2.7220265633383085</td>\n",
       "    </tr>\n",
       "    <tr>\n",
       "      <th>3</th>\n",
       "      <td>Urea Nitrogen</td>\n",
       "      <td>51006</td>\n",
       "      <td>3189474</td>\n",
       "      <td>2.6990243753378937</td>\n",
       "    </tr>\n",
       "    <tr>\n",
       "      <th>4</th>\n",
       "      <td>Hemoglobin</td>\n",
       "      <td>51222</td>\n",
       "      <td>3188835</td>\n",
       "      <td>2.6984836352108883</td>\n",
       "    </tr>\n",
       "    <tr>\n",
       "      <th>...</th>\n",
       "      <td>...</td>\n",
       "      <td>...</td>\n",
       "      <td>...</td>\n",
       "      <td>...</td>\n",
       "    </tr>\n",
       "    <tr>\n",
       "      <th>910</th>\n",
       "      <td>Uric Acid, Joint Fluid</td>\n",
       "      <td>51826</td>\n",
       "      <td>1</td>\n",
       "      <td>8.4622868075986638e-07</td>\n",
       "    </tr>\n",
       "    <tr>\n",
       "      <th>911</th>\n",
       "      <td>Hyperseg</td>\n",
       "      <td>52055</td>\n",
       "      <td>1</td>\n",
       "      <td>8.4622868075986638e-07</td>\n",
       "    </tr>\n",
       "    <tr>\n",
       "      <th>912</th>\n",
       "      <td>Albumin, Stool</td>\n",
       "      <td>51927</td>\n",
       "      <td>1</td>\n",
       "      <td>8.4622868075986638e-07</td>\n",
       "    </tr>\n",
       "    <tr>\n",
       "      <th>913</th>\n",
       "      <td>Voided Specimen</td>\n",
       "      <td>52066</td>\n",
       "      <td>1</td>\n",
       "      <td>8.4622868075986638e-07</td>\n",
       "    </tr>\n",
       "    <tr>\n",
       "      <th>914</th>\n",
       "      <td>Chloride, CSF</td>\n",
       "      <td>51784</td>\n",
       "      <td>1</td>\n",
       "      <td>8.4622868075986638e-07</td>\n",
       "    </tr>\n",
       "  </tbody>\n",
       "</table>\n",
       "<p>915 rows × 4 columns</p>\n",
       "</div>"
      ]
     },
     "execution_count": 3,
     "metadata": {},
     "output_type": "execute_result"
    }
   ],
   "execution_count": 3
  },
  {
   "metadata": {
    "ExecuteTime": {
     "end_time": "2024-09-10T13:14:35.409372Z",
     "start_time": "2024-09-10T13:14:35.401268Z"
    }
   },
   "cell_type": "code",
   "source": "analyses_list = data.head(26).itemid.tolist()",
   "id": "6bf85bff4166397f",
   "outputs": [],
   "execution_count": 7
  },
  {
   "metadata": {
    "ExecuteTime": {
     "end_time": "2024-09-10T13:14:40.719628Z",
     "start_time": "2024-09-10T13:14:40.710039Z"
    }
   },
   "cell_type": "code",
   "source": [
    "with open('most_common_analyses.txt', 'w') as f:\n",
    "    f.write(str(analyses_list))"
   ],
   "id": "2a06380c2854daa",
   "outputs": [],
   "execution_count": 9
  },
  {
   "metadata": {},
   "cell_type": "code",
   "outputs": [],
   "execution_count": null,
   "source": "",
   "id": "15cfa8463ed9cbcd"
  }
 ],
 "metadata": {
  "kernelspec": {
   "display_name": "Python 3",
   "language": "python",
   "name": "python3"
  },
  "language_info": {
   "codemirror_mode": {
    "name": "ipython",
    "version": 2
   },
   "file_extension": ".py",
   "mimetype": "text/x-python",
   "name": "python",
   "nbconvert_exporter": "python",
   "pygments_lexer": "ipython2",
   "version": "2.7.6"
  }
 },
 "nbformat": 4,
 "nbformat_minor": 5
}
