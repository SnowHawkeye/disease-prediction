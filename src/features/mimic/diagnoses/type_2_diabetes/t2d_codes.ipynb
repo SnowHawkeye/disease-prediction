{
 "cells": [
  {
   "metadata": {},
   "cell_type": "markdown",
   "source": [
    "## Type 2 diabetes diagnoses codes extraction\n",
    "### SQL Query\n",
    "The following query finds all diagnoses mentioning type 2 diabetes and returns the number of diagnoses for each.\n",
    "\n",
    "```sql\n",
    "SELECT\n",
    "    d1.icd_code,\n",
    "    COUNT(d2.icd_code) AS occurrence_count,\n",
    "    d1.long_title\n",
    "FROM\n",
    "    `physionet-data.mimiciv_hosp.d_icd_diagnoses` AS d1\n",
    "JOIN\n",
    "    `physionet-data.mimiciv_hosp.diagnoses_icd` AS d2 ON d1.icd_code = d2.icd_code\n",
    "WHERE\n",
    "    LOWER(d1.long_title) LIKE '%diabetes%'\n",
    "    AND (LOWER(d1.long_title) LIKE '%type 2%' OR LOWER(d1.long_title) LIKE '%type ii%')\n",
    "GROUP BY\n",
    "    d1.icd_code,\n",
    "    d1.long_title\n",
    "ORDER BY occurrence_count DESC;\n",
    "```\n",
    "\n",
    "The results are stored in `type_2_diabetes_codes.json`"
   ],
   "id": "1d3309e0b188deee"
  },
  {
   "metadata": {
    "ExecuteTime": {
     "end_time": "2024-09-10T10:09:42.240389Z",
     "start_time": "2024-09-10T10:09:41.259501Z"
    }
   },
   "cell_type": "code",
   "source": [
    "import pandas as pd\n",
    "import json"
   ],
   "id": "868da68d3b355ff4",
   "outputs": [],
   "execution_count": 2
  },
  {
   "cell_type": "code",
   "id": "initial_id",
   "metadata": {
    "collapsed": true,
    "ExecuteTime": {
     "end_time": "2024-09-10T10:10:11.604046Z",
     "start_time": "2024-09-10T10:10:11.590914Z"
    }
   },
   "source": [
    "with open('type_2_diabetes_codes.json', 'r') as f:\n",
    "    data = pd.DataFrame(json.load(f))"
   ],
   "outputs": [],
   "execution_count": 6
  },
  {
   "metadata": {
    "ExecuteTime": {
     "end_time": "2024-09-10T10:10:14.348233Z",
     "start_time": "2024-09-10T10:10:14.317937Z"
    }
   },
   "cell_type": "code",
   "source": "data",
   "id": "afcd4adf8257f64e",
   "outputs": [
    {
     "data": {
      "text/plain": [
       "   icd_code occurrence_count  \\\n",
       "0     25000            41029   \n",
       "1      E119            16621   \n",
       "2     E1122            10003   \n",
       "3     25060             6646   \n",
       "4     E1165             5458   \n",
       "..      ...              ...   \n",
       "93  E113521                1   \n",
       "94  E113212                1   \n",
       "95  E113419                1   \n",
       "96  E113553                1   \n",
       "97  E113211                1   \n",
       "\n",
       "                                           long_title  \n",
       "0   Diabetes mellitus without mention of complicat...  \n",
       "1      Type 2 diabetes mellitus without complications  \n",
       "2   Type 2 diabetes mellitus with diabetic chronic...  \n",
       "3   Diabetes with neurological manifestations, typ...  \n",
       "4         Type 2 diabetes mellitus with hyperglycemia  \n",
       "..                                                ...  \n",
       "93  Type 2 diabetes mellitus with proliferative di...  \n",
       "94  Type 2 diabetes mellitus with mild nonprolifer...  \n",
       "95  Type 2 diabetes mellitus with severe nonprolif...  \n",
       "96  Type 2 diabetes mellitus with stable prolifera...  \n",
       "97  Type 2 diabetes mellitus with mild nonprolifer...  \n",
       "\n",
       "[98 rows x 3 columns]"
      ],
      "text/html": [
       "<div>\n",
       "<style scoped>\n",
       "    .dataframe tbody tr th:only-of-type {\n",
       "        vertical-align: middle;\n",
       "    }\n",
       "\n",
       "    .dataframe tbody tr th {\n",
       "        vertical-align: top;\n",
       "    }\n",
       "\n",
       "    .dataframe thead th {\n",
       "        text-align: right;\n",
       "    }\n",
       "</style>\n",
       "<table border=\"1\" class=\"dataframe\">\n",
       "  <thead>\n",
       "    <tr style=\"text-align: right;\">\n",
       "      <th></th>\n",
       "      <th>icd_code</th>\n",
       "      <th>occurrence_count</th>\n",
       "      <th>long_title</th>\n",
       "    </tr>\n",
       "  </thead>\n",
       "  <tbody>\n",
       "    <tr>\n",
       "      <th>0</th>\n",
       "      <td>25000</td>\n",
       "      <td>41029</td>\n",
       "      <td>Diabetes mellitus without mention of complicat...</td>\n",
       "    </tr>\n",
       "    <tr>\n",
       "      <th>1</th>\n",
       "      <td>E119</td>\n",
       "      <td>16621</td>\n",
       "      <td>Type 2 diabetes mellitus without complications</td>\n",
       "    </tr>\n",
       "    <tr>\n",
       "      <th>2</th>\n",
       "      <td>E1122</td>\n",
       "      <td>10003</td>\n",
       "      <td>Type 2 diabetes mellitus with diabetic chronic...</td>\n",
       "    </tr>\n",
       "    <tr>\n",
       "      <th>3</th>\n",
       "      <td>25060</td>\n",
       "      <td>6646</td>\n",
       "      <td>Diabetes with neurological manifestations, typ...</td>\n",
       "    </tr>\n",
       "    <tr>\n",
       "      <th>4</th>\n",
       "      <td>E1165</td>\n",
       "      <td>5458</td>\n",
       "      <td>Type 2 diabetes mellitus with hyperglycemia</td>\n",
       "    </tr>\n",
       "    <tr>\n",
       "      <th>...</th>\n",
       "      <td>...</td>\n",
       "      <td>...</td>\n",
       "      <td>...</td>\n",
       "    </tr>\n",
       "    <tr>\n",
       "      <th>93</th>\n",
       "      <td>E113521</td>\n",
       "      <td>1</td>\n",
       "      <td>Type 2 diabetes mellitus with proliferative di...</td>\n",
       "    </tr>\n",
       "    <tr>\n",
       "      <th>94</th>\n",
       "      <td>E113212</td>\n",
       "      <td>1</td>\n",
       "      <td>Type 2 diabetes mellitus with mild nonprolifer...</td>\n",
       "    </tr>\n",
       "    <tr>\n",
       "      <th>95</th>\n",
       "      <td>E113419</td>\n",
       "      <td>1</td>\n",
       "      <td>Type 2 diabetes mellitus with severe nonprolif...</td>\n",
       "    </tr>\n",
       "    <tr>\n",
       "      <th>96</th>\n",
       "      <td>E113553</td>\n",
       "      <td>1</td>\n",
       "      <td>Type 2 diabetes mellitus with stable prolifera...</td>\n",
       "    </tr>\n",
       "    <tr>\n",
       "      <th>97</th>\n",
       "      <td>E113211</td>\n",
       "      <td>1</td>\n",
       "      <td>Type 2 diabetes mellitus with mild nonprolifer...</td>\n",
       "    </tr>\n",
       "  </tbody>\n",
       "</table>\n",
       "<p>98 rows × 3 columns</p>\n",
       "</div>"
      ]
     },
     "execution_count": 7,
     "metadata": {},
     "output_type": "execute_result"
    }
   ],
   "execution_count": 7
  },
  {
   "metadata": {
    "ExecuteTime": {
     "end_time": "2024-09-10T10:11:25.891239Z",
     "start_time": "2024-09-10T10:11:25.847309Z"
    }
   },
   "cell_type": "code",
   "source": [
    "with open('type_2_diabetes_codes.txt', 'w') as f:\n",
    "    f.write(str(data.icd_code.tolist()))"
   ],
   "id": "2a06380c2854daa",
   "outputs": [],
   "execution_count": 8
  },
  {
   "metadata": {},
   "cell_type": "code",
   "outputs": [],
   "execution_count": null,
   "source": "",
   "id": "15cfa8463ed9cbcd"
  }
 ],
 "metadata": {
  "kernelspec": {
   "display_name": "Python 3",
   "language": "python",
   "name": "python3"
  },
  "language_info": {
   "codemirror_mode": {
    "name": "ipython",
    "version": 2
   },
   "file_extension": ".py",
   "mimetype": "text/x-python",
   "name": "python",
   "nbconvert_exporter": "python",
   "pygments_lexer": "ipython2",
   "version": "2.7.6"
  }
 },
 "nbformat": 4,
 "nbformat_minor": 5
}
