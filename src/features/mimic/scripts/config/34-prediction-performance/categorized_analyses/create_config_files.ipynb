{
 "cells": [
  {
   "metadata": {},
   "cell_type": "markdown",
   "source": [
    "\n",
    "# Config file creation for categorized analyses\n",
    "\n",
    "Because of the number of categories, writing config files individually would be long. This notebook's purpose is to streamline their creation."
   ],
   "id": "182ff6c17cec8095"
  },
  {
   "cell_type": "code",
   "id": "initial_id",
   "metadata": {
    "collapsed": true,
    "ExecuteTime": {
     "end_time": "2024-11-19T11:05:13.830771Z",
     "start_time": "2024-11-19T11:05:13.825328Z"
    }
   },
   "source": [
    "import json\n",
    "import pandas as pd\n",
    "import numpy as np"
   ],
   "outputs": [],
   "execution_count": 25
  },
  {
   "metadata": {
    "ExecuteTime": {
     "end_time": "2024-11-19T11:05:13.897682Z",
     "start_time": "2024-11-19T11:05:13.895236Z"
    }
   },
   "cell_type": "code",
   "source": [
    "infos = {\n",
    "    \"selected_analyses_ids\", # varies with category, get from list\n",
    "    \"positive_diagnoses\", # varies with disease\n",
    "    \"lab_records_frequency\", # doesn't vary > 'h'\n",
    "    \"backward_window_time_unit\", # \"month\"\n",
    "    \"backward_window_value\", # parameterizable, 24 for this issue\n",
    "    \"gap_days\", # parameterizable, 90 for this issue\n",
    "    \"prediction_window_days\", # varies\n",
    "}"
   ],
   "id": "108f526df5094f79",
   "outputs": [],
   "execution_count": 26
  },
  {
   "metadata": {
    "ExecuteTime": {
     "end_time": "2024-11-19T11:05:14.013172Z",
     "start_time": "2024-11-19T11:05:14.009610Z"
    }
   },
   "cell_type": "code",
   "source": [
    "from pathlib import Path\n",
    "\n",
    "\n",
    "def find_project_root():\n",
    "    # Start from the current working directory and navigate to the directory containing \"src\"\n",
    "    base_dir = Path.cwd()\n",
    "    while not (base_dir / \"src\").exists():\n",
    "        if base_dir.parent == base_dir:  # Stop if we reach the root without finding \"src\"\n",
    "            raise FileNotFoundError(\"Could not find the 'src' directory in the path tree.\")\n",
    "        base_dir = base_dir.parent\n",
    "    return base_dir / \"src\""
   ],
   "id": "34f8c6b40e9eaf4c",
   "outputs": [],
   "execution_count": 27
  },
  {
   "metadata": {
    "ExecuteTime": {
     "end_time": "2024-11-19T11:05:14.431753Z",
     "start_time": "2024-11-19T11:05:14.422990Z"
    }
   },
   "cell_type": "code",
   "source": [
    "def make_config(\n",
    "        output_file,\n",
    "        selected_analyses_ids,\n",
    "        positive_diagnoses,\n",
    "        prediction_window_days,\n",
    "        lab_records_frequency=\"h\",\n",
    "        backward_window_time_unit=\"month\",\n",
    "        backward_window_value=24,\n",
    "        gap_days=90,\n",
    "):\n",
    "    config_dict = {\n",
    "        \"selected_analyses_ids\": selected_analyses_ids,\n",
    "        \"positive_diagnoses\": positive_diagnoses,\n",
    "        \"lab_records_frequency\": lab_records_frequency,\n",
    "        \"backward_window_time_unit\": backward_window_time_unit,\n",
    "        \"backward_window_value\": backward_window_value,\n",
    "        \"gap_days\": gap_days,\n",
    "        \"prediction_window_days\": prediction_window_days,\n",
    "    }\n",
    "\n",
    "    with open(output_file, \"w\") as f:\n",
    "        json.dump(config_dict, f, indent=4)\n",
    "\n",
    "    return config_dict"
   ],
   "id": "8eb4eedb3c2cc34c",
   "outputs": [],
   "execution_count": 28
  },
  {
   "metadata": {
    "ExecuteTime": {
     "end_time": "2024-11-19T11:05:14.904977Z",
     "start_time": "2024-11-19T11:05:14.898914Z"
    }
   },
   "cell_type": "code",
   "source": [
    "src = find_project_root()\n",
    "\n",
    "categorized_analyses_file = src / \"features/mimic/analyses/categorized/categorized_analyses.json\"\n",
    "\n",
    "\n",
    "with open(categorized_analyses_file, \"r\") as f:\n",
    "    categorized_analyses = json.load(f)"
   ],
   "id": "23e7f04a0943c4e5",
   "outputs": [],
   "execution_count": 29
  },
  {
   "metadata": {
    "ExecuteTime": {
     "end_time": "2024-11-19T14:35:01.065488Z",
     "start_time": "2024-11-19T14:35:01.035276Z"
    }
   },
   "cell_type": "code",
   "source": [
    "\n",
    "from os import path\n",
    "\n",
    "\n",
    "def make_config_files(\n",
    "        disease_identifier,\n",
    "        diagnoses,\n",
    "        prediction_window_string,\n",
    "        prediction_window,\n",
    "        backward_window_string,\n",
    "        backward_window_unit,\n",
    "        backward_window,\n",
    "        gap_string,\n",
    "        gap,\n",
    "):\n",
    "    for category, analyses_codes in categorized_analyses.items():\n",
    "        base_directory_name = (f\"{disease_identifier}_\"\n",
    "                          f\"B{backward_window_string}_\"\n",
    "                          f\"G{gap_string}_\"\n",
    "                          f\"P{prediction_window_string}\")\n",
    "\n",
    "        directory = path.join(disease_identifier, base_directory_name, category)\n",
    "        Path(directory).mkdir(parents=True, exist_ok=True)\n",
    "\n",
    "        file_name = f\"{base_directory_name}_{category}_config.json\"\n",
    "        file_path = path.join(directory, file_name)\n",
    "\n",
    "        make_config(\n",
    "            output_file=file_path,\n",
    "            selected_analyses_ids=analyses_codes,\n",
    "            positive_diagnoses=diagnoses,\n",
    "            prediction_window_days=prediction_window,\n",
    "            lab_records_frequency=\"h\",\n",
    "            backward_window_time_unit=backward_window_unit,\n",
    "            backward_window_value=backward_window,\n",
    "            gap_days=gap,\n",
    "        )"
   ],
   "id": "3bf7bcbc87c5698c",
   "outputs": [],
   "execution_count": 71
  },
  {
   "metadata": {
    "ExecuteTime": {
     "end_time": "2024-11-19T14:35:01.488289Z",
     "start_time": "2024-11-19T14:35:01.483043Z"
    }
   },
   "cell_type": "code",
   "source": [
    "ckd_diagnoses = [\"5856\", \"40391\", \"N186\", \"I120\", \"5854\", \"N184\", \"I132\", \"5855\", \"N185\", \"40311\", \"40301\", \"40493\",\n",
    "                 \"I1311\", \"40492\", \"40403\", \"40413\"]\n",
    "t2d_diagnoses = [\"25000\", \"E119\", \"E1122\", \"25060\", \"E1165\", \"25040\", \"E1140\", \"25050\", \"E1151\", \"25002\", \"25080\",\n",
    "                 \"E11319\", \"E1142\", \"E1121\", \"E11649\", \"25062\", \"E11621\", \"25042\", \"25082\", \"E1169\", \"E1143\", \"25052\",\n",
    "                 \"25070\", \"E1152\", \"E118\", \"25012\", \"25092\", \"E11610\", \"25072\", \"E11622\", \"E1110\", \"25090\", \"E11628\",\n",
    "                 \"E1139\", \"E1136\", \"E1100\", \"25022\", \"E113599\", \"E113299\", \"O2412\", \"E11311\", \"25020\", \"E113593\",\n",
    "                 \"E1159\", \"E11329\", \"E1149\", \"E113293\", \"E11359\", \"E1129\", \"E113499\", \"E113399\", \"E1141\", \"O24113\",\n",
    "                 \"E113592\", \"E113591\", \"E113513\", \"O24111\", \"E113393\", \"E1144\", \"25032\", \"E113291\", \"E113519\",\n",
    "                 \"E113292\", \"E113219\", \"E11349\", \"O24112\", \"E11641\", \"E113313\", \"25010\", \"25030\", \"E1101\", \"E11620\",\n",
    "                 \"E113493\", \"E11351\", \"E11339\", \"E113213\", \"E113319\", \"E113413\", \"E11321\", \"E113492\", \"O2413\",\n",
    "                 \"E1137X9\", \"E113391\", \"E11331\", \"E113311\", \"E11341\", \"E113491\", \"E113542\", \"E113511\", \"E11618\",\n",
    "                 \"E113532\", \"E113392\", \"E113512\", \"E113521\", \"E113212\", \"E113419\", \"E113553\", \"E113211\"]"
   ],
   "id": "3c92af018be1d67b",
   "outputs": [],
   "execution_count": 72
  },
  {
   "metadata": {},
   "cell_type": "markdown",
   "source": "CKD config files",
   "id": "d70464cce1440636"
  },
  {
   "metadata": {
    "ExecuteTime": {
     "end_time": "2024-11-19T14:35:02.410287Z",
     "start_time": "2024-11-19T14:35:02.396500Z"
    }
   },
   "cell_type": "code",
   "source": [
    "# ckd_B24m_G3m_P1y\n",
    "make_config_files(\n",
    "        disease_identifier = \"ckd\",\n",
    "        diagnoses = ckd_diagnoses,\n",
    "\n",
    "        prediction_window_string = \"1y\",\n",
    "        prediction_window = 365,  # days\n",
    "\n",
    "        backward_window_string = \"24m\",\n",
    "        backward_window_unit = \"month\",\n",
    "        backward_window = 24,  # days\n",
    "\n",
    "        gap_string = \"3m\",\n",
    "        gap = 90 , # days\n",
    ")"
   ],
   "id": "58b68a6232bc40a2",
   "outputs": [],
   "execution_count": 73
  },
  {
   "metadata": {
    "ExecuteTime": {
     "end_time": "2024-11-19T14:35:02.629159Z",
     "start_time": "2024-11-19T14:35:02.619987Z"
    }
   },
   "cell_type": "code",
   "source": [
    "# ckd_B24m_G3m_P2y\n",
    "make_config_files(\n",
    "        disease_identifier = \"ckd\",\n",
    "        diagnoses = ckd_diagnoses,\n",
    "\n",
    "        prediction_window_string = \"2y\",\n",
    "        prediction_window = 730,  # days\n",
    "\n",
    "        backward_window_string = \"24m\",\n",
    "        backward_window_unit = \"month\",\n",
    "        backward_window = 24,  # days\n",
    "\n",
    "        gap_string = \"3m\",\n",
    "        gap = 90 , # days\n",
    ")"
   ],
   "id": "a03d3fb7b8a52a20",
   "outputs": [],
   "execution_count": 74
  },
  {
   "metadata": {
    "ExecuteTime": {
     "end_time": "2024-11-19T14:35:02.775069Z",
     "start_time": "2024-11-19T14:35:02.769836Z"
    }
   },
   "cell_type": "code",
   "source": [
    "# ckd_B24m_G3m_P3m\n",
    "make_config_files(\n",
    "        disease_identifier = \"ckd\",\n",
    "        diagnoses = ckd_diagnoses,\n",
    "\n",
    "        prediction_window_string = \"3m\",\n",
    "        prediction_window = 90,  # days\n",
    "\n",
    "        backward_window_string = \"24m\",\n",
    "        backward_window_unit = \"month\",\n",
    "        backward_window = 24,  # days\n",
    "\n",
    "        gap_string = \"3m\",\n",
    "        gap = 90 , # days\n",
    ")"
   ],
   "id": "660d394a754546a2",
   "outputs": [],
   "execution_count": 75
  },
  {
   "metadata": {
    "ExecuteTime": {
     "end_time": "2024-11-19T14:35:02.937994Z",
     "start_time": "2024-11-19T14:35:02.931048Z"
    }
   },
   "cell_type": "code",
   "source": [
    "# ckd_B24m_G3m_P5y\n",
    "make_config_files(\n",
    "        disease_identifier = \"ckd\",\n",
    "        diagnoses = ckd_diagnoses,\n",
    "\n",
    "        prediction_window_string = \"5y\",\n",
    "        prediction_window = 1825,  # days\n",
    "\n",
    "        backward_window_string = \"24m\",\n",
    "        backward_window_unit = \"month\",\n",
    "        backward_window = 24,  # days\n",
    "\n",
    "        gap_string = \"3m\",\n",
    "        gap = 90 , # days\n",
    ")"
   ],
   "id": "d1184fd1ddff2340",
   "outputs": [],
   "execution_count": 76
  },
  {
   "metadata": {},
   "cell_type": "markdown",
   "source": "T2D config files",
   "id": "6869a41f85bcc86d"
  },
  {
   "metadata": {
    "ExecuteTime": {
     "end_time": "2024-11-19T14:35:03.232331Z",
     "start_time": "2024-11-19T14:35:03.226713Z"
    }
   },
   "cell_type": "code",
   "source": [
    "# t2d_B24m_G3m_P1y\n",
    "make_config_files(\n",
    "        disease_identifier = \"t2d\",\n",
    "        diagnoses = t2d_diagnoses,\n",
    "\n",
    "        prediction_window_string = \"1y\",\n",
    "        prediction_window = 365,  # days\n",
    "\n",
    "        backward_window_string = \"24m\",\n",
    "        backward_window_unit = \"month\",\n",
    "        backward_window = 24,  # days\n",
    "\n",
    "        gap_string = \"3m\",\n",
    "        gap = 90 , # days\n",
    ")"
   ],
   "id": "a80428a29954082c",
   "outputs": [],
   "execution_count": 77
  },
  {
   "metadata": {
    "ExecuteTime": {
     "end_time": "2024-11-19T14:35:03.368005Z",
     "start_time": "2024-11-19T14:35:03.359533Z"
    }
   },
   "cell_type": "code",
   "source": [
    "# t2d_B24m_G3m_P2y\n",
    "make_config_files(\n",
    "        disease_identifier = \"t2d\",\n",
    "        diagnoses = t2d_diagnoses,\n",
    "\n",
    "        prediction_window_string = \"2y\",\n",
    "        prediction_window = 730,  # days\n",
    "\n",
    "        backward_window_string = \"24m\",\n",
    "        backward_window_unit = \"month\",\n",
    "        backward_window = 24,  # days\n",
    "\n",
    "        gap_string = \"3m\",\n",
    "        gap = 90 , # days\n",
    ")"
   ],
   "id": "96a52055c6e628c8",
   "outputs": [],
   "execution_count": 78
  },
  {
   "metadata": {
    "ExecuteTime": {
     "end_time": "2024-11-19T14:35:03.499898Z",
     "start_time": "2024-11-19T14:35:03.493655Z"
    }
   },
   "cell_type": "code",
   "source": [
    "# t2d_B24m_G3m_P3m\n",
    "make_config_files(\n",
    "        disease_identifier = \"t2d\",\n",
    "        diagnoses = t2d_diagnoses,\n",
    "\n",
    "        prediction_window_string = \"3m\",\n",
    "        prediction_window = 90,  # days\n",
    "\n",
    "        backward_window_string = \"24m\",\n",
    "        backward_window_unit = \"month\",\n",
    "        backward_window = 24,  # days\n",
    "\n",
    "        gap_string = \"3m\",\n",
    "        gap = 90 , # days\n",
    ")"
   ],
   "id": "7e1557f7ac7a1afd",
   "outputs": [],
   "execution_count": 79
  },
  {
   "metadata": {
    "ExecuteTime": {
     "end_time": "2024-11-19T14:35:03.685769Z",
     "start_time": "2024-11-19T14:35:03.676159Z"
    }
   },
   "cell_type": "code",
   "source": [
    "# t2d_B24m_G3m_P5y\n",
    "make_config_files(\n",
    "        disease_identifier = \"t2d\",\n",
    "        diagnoses = t2d_diagnoses,\n",
    "\n",
    "        prediction_window_string = \"5y\",\n",
    "        prediction_window = 1825,  # days\n",
    "\n",
    "        backward_window_string = \"24m\",\n",
    "        backward_window_unit = \"month\",\n",
    "        backward_window = 24,  # days\n",
    "\n",
    "        gap_string = \"3m\",\n",
    "        gap = 90 , # days\n",
    ")"
   ],
   "id": "5e771d0e76285c77",
   "outputs": [],
   "execution_count": 80
  },
  {
   "metadata": {
    "ExecuteTime": {
     "end_time": "2024-11-19T14:35:04.010855Z",
     "start_time": "2024-11-19T14:35:04.008419Z"
    }
   },
   "cell_type": "code",
   "source": "",
   "id": "1a3289cd7c2960e3",
   "outputs": [],
   "execution_count": null
  },
  {
   "metadata": {},
   "cell_type": "code",
   "outputs": [],
   "execution_count": null,
   "source": "",
   "id": "49897c8ba5e94f9c"
  }
 ],
 "metadata": {
  "kernelspec": {
   "display_name": "Python 3",
   "language": "python",
   "name": "python3"
  },
  "language_info": {
   "codemirror_mode": {
    "name": "ipython",
    "version": 2
   },
   "file_extension": ".py",
   "mimetype": "text/x-python",
   "name": "python",
   "nbconvert_exporter": "python",
   "pygments_lexer": "ipython2",
   "version": "2.7.6"
  }
 },
 "nbformat": 4,
 "nbformat_minor": 5
}
